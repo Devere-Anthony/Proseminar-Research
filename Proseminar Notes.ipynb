{
 "cells": [
  {
   "cell_type": "markdown",
   "id": "4b9d3f77-5682-4347-8332-50e6db9bf114",
   "metadata": {},
   "source": [
    "# Proseminar Research Data "
   ]
  },
  {
   "cell_type": "code",
   "execution_count": 1,
   "id": "64f23588-eded-4843-9b87-1b7a812672a9",
   "metadata": {},
   "outputs": [],
   "source": [
    "import numpy as np\n",
    "import pandas as pd\n",
    "import matplotlib.pyplot as plt \n",
    "import statsmodels.api as sm\n",
    "import statsmodels.formula.api as smf\n",
    "import statsmodels.graphics.api as smg\n",
    "from scipy import stats"
   ]
  },
  {
   "cell_type": "markdown",
   "id": "c213a97e-6701-49a1-a72a-5cf179c31d93",
   "metadata": {},
   "source": [
    "---\n",
    "## Initial Data Preparation\n",
    "\n",
    "The primary tasks for making this a viable data set are:\n",
    "* remove the invalid variables\n",
    "* remove instances with ICMP\n",
    "* remove instances with ARP.\n",
    "\n",
    "Refer to the dataset review paper for the specifics as to why all of these observations need to be dropped. "
   ]
  },
  {
   "cell_type": "code",
   "execution_count": 4,
   "id": "381370f1-e586-4751-b5f1-a847247454a1",
   "metadata": {},
   "outputs": [
    {
     "name": "stderr",
     "output_type": "stream",
     "text": [
      "/var/folders/gh/pbg5_y_13014j3xs32wd9l_c0000gn/T/ipykernel_72598/266636883.py:2: DtypeWarning: Columns (0,1,3,5,7,9,10,11,13,14,15,16,17,18,19,20,21,22,23,24,25,26,27,28,29,30,31,32,33,34,35,36,37,38,39,40,41,42,43) have mixed types. Specify dtype option on import or set low_memory=False.\n",
      "  data = pd.read_csv(\"Data/Bot-IoT/All-features/All-features/combined.csv\")\n"
     ]
    }
   ],
   "source": [
    "# load dataset \n",
    "data = pd.read_csv(\"Data/Bot-IoT/All-features/All-features/combined.csv\")"
   ]
  },
  {
   "cell_type": "code",
   "execution_count": 6,
   "id": "f1a1a43c-f500-4130-94d0-d28c575d0ea6",
   "metadata": {},
   "outputs": [
    {
     "name": "stdout",
     "output_type": "stream",
     "text": [
      "<class 'pandas.core.frame.DataFrame'>\n",
      "RangeIndex: 3668525 entries, 0 to 3668524\n",
      "Data columns (total 46 columns):\n",
      " #   Column                            Dtype \n",
      "---  ------                            ----- \n",
      " 0   pkSeqID                           object\n",
      " 1   stime                             object\n",
      " 2   flgs                              object\n",
      " 3   flgs_number                       object\n",
      " 4   proto                             object\n",
      " 5   proto_number                      object\n",
      " 6   saddr                             object\n",
      " 7   sport                             object\n",
      " 8   daddr                             object\n",
      " 9   dport                             object\n",
      " 10  pkts                              object\n",
      " 11  bytes                             object\n",
      " 12  state                             object\n",
      " 13  state_number                      object\n",
      " 14  ltime                             object\n",
      " 15  seq                               object\n",
      " 16  dur                               object\n",
      " 17  mean                              object\n",
      " 18  stddev                            object\n",
      " 19  sum                               object\n",
      " 20  min                               object\n",
      " 21  max                               object\n",
      " 22  spkts                             object\n",
      " 23  dpkts                             object\n",
      " 24  sbytes                            object\n",
      " 25  dbytes                            object\n",
      " 26  rate                              object\n",
      " 27  srate                             object\n",
      " 28  drate                             object\n",
      " 29  TnBPSrcIP                         object\n",
      " 30  TnBPDstIP                         object\n",
      " 31  TnP_PSrcIP                        object\n",
      " 32  TnP_PDstIP                        object\n",
      " 33  TnP_PerProto                      object\n",
      " 34  TnP_Per_Dport                     object\n",
      " 35  AR_P_Proto_P_SrcIP                object\n",
      " 36  AR_P_Proto_P_DstIP                object\n",
      " 37  N_IN_Conn_P_DstIP                 object\n",
      " 38  N_IN_Conn_P_SrcIP                 object\n",
      " 39  AR_P_Proto_P_Sport                object\n",
      " 40  AR_P_Proto_P_Dport                object\n",
      " 41  Pkts_P_State_P_Protocol_P_DestIP  object\n",
      " 42  Pkts_P_State_P_Protocol_P_SrcIP   object\n",
      " 43  attack                            object\n",
      " 44  category                          object\n",
      " 45  subcategory                       object\n",
      "dtypes: object(46)\n",
      "memory usage: 1.3+ GB\n"
     ]
    }
   ],
   "source": [
    "data.info()"
   ]
  },
  {
   "cell_type": "code",
   "execution_count": 18,
   "id": "38837c9c-4361-497b-8f61-f8c9fdf2f991",
   "metadata": {},
   "outputs": [],
   "source": [
    "# create copy of dataset without invalid features\n",
    "valid_data = data.drop(columns=['pkSeqID', 'seq', 'stime', 'ltime', 'saddr', 'daddr'])"
   ]
  },
  {
   "cell_type": "code",
   "execution_count": 19,
   "id": "938261f9-d3f4-4d76-9825-575d51da56e0",
   "metadata": {},
   "outputs": [
    {
     "name": "stdout",
     "output_type": "stream",
     "text": [
      "<class 'pandas.core.frame.DataFrame'>\n",
      "RangeIndex: 3668525 entries, 0 to 3668524\n",
      "Data columns (total 40 columns):\n",
      " #   Column                            Dtype \n",
      "---  ------                            ----- \n",
      " 0   flgs                              object\n",
      " 1   flgs_number                       object\n",
      " 2   proto                             object\n",
      " 3   proto_number                      object\n",
      " 4   sport                             object\n",
      " 5   dport                             object\n",
      " 6   pkts                              object\n",
      " 7   bytes                             object\n",
      " 8   state                             object\n",
      " 9   state_number                      object\n",
      " 10  dur                               object\n",
      " 11  mean                              object\n",
      " 12  stddev                            object\n",
      " 13  sum                               object\n",
      " 14  min                               object\n",
      " 15  max                               object\n",
      " 16  spkts                             object\n",
      " 17  dpkts                             object\n",
      " 18  sbytes                            object\n",
      " 19  dbytes                            object\n",
      " 20  rate                              object\n",
      " 21  srate                             object\n",
      " 22  drate                             object\n",
      " 23  TnBPSrcIP                         object\n",
      " 24  TnBPDstIP                         object\n",
      " 25  TnP_PSrcIP                        object\n",
      " 26  TnP_PDstIP                        object\n",
      " 27  TnP_PerProto                      object\n",
      " 28  TnP_Per_Dport                     object\n",
      " 29  AR_P_Proto_P_SrcIP                object\n",
      " 30  AR_P_Proto_P_DstIP                object\n",
      " 31  N_IN_Conn_P_DstIP                 object\n",
      " 32  N_IN_Conn_P_SrcIP                 object\n",
      " 33  AR_P_Proto_P_Sport                object\n",
      " 34  AR_P_Proto_P_Dport                object\n",
      " 35  Pkts_P_State_P_Protocol_P_DestIP  object\n",
      " 36  Pkts_P_State_P_Protocol_P_SrcIP   object\n",
      " 37  attack                            object\n",
      " 38  category                          object\n",
      " 39  subcategory                       object\n",
      "dtypes: object(40)\n",
      "memory usage: 1.1+ GB\n"
     ]
    }
   ],
   "source": [
    "valid_data.info()"
   ]
  },
  {
   "cell_type": "code",
   "execution_count": 22,
   "id": "a767d368-6481-4e85-a50d-54824641735a",
   "metadata": {},
   "outputs": [
    {
     "data": {
      "text/plain": [
       "array(['tcp', 'arp', 'udp', 'icmp', 'proto', 'ipv6-icmp'], dtype=object)"
      ]
     },
     "execution_count": 22,
     "metadata": {},
     "output_type": "execute_result"
    }
   ],
   "source": [
    "# check protocol values \n",
    "valid_data.proto.unique()"
   ]
  },
  {
   "cell_type": "code",
   "execution_count": 34,
   "id": "36d89fb4-1dd1-4782-80e4-ad89fc9d4e3b",
   "metadata": {},
   "outputs": [],
   "source": [
    "# check out instances of ICMP observations\n",
    "icmp_records = valid_data.loc[valid_data.proto == 'icmp']"
   ]
  },
  {
   "cell_type": "markdown",
   "id": "60a9b4c5-2428-4fff-8bbc-14355624f2bb",
   "metadata": {},
   "source": [
    "<br>Let's go ahead and drop these values since these instances due to the fact these values contain hex values for the sport and dport features. These area incongruent with the rest of the data. Hex values for source/destination ports are invalid, therefore these values are difficult to comprehend. There is a chance they can possibly be fixed; however, it is not worth the time to attempt this, and instead I will simply drop these cases. "
   ]
  },
  {
   "cell_type": "code",
   "execution_count": 41,
   "id": "36ac90b0-213a-49d5-a952-241c686b9d14",
   "metadata": {},
   "outputs": [
    {
     "data": {
      "text/plain": [
       "array(['0x0303', '0x0008', '0x000d', '0x0011'], dtype=object)"
      ]
     },
     "execution_count": 41,
     "metadata": {},
     "output_type": "execute_result"
    }
   ],
   "source": [
    "icmp_records.sport.unique()"
   ]
  },
  {
   "cell_type": "code",
   "execution_count": 42,
   "id": "fb2fe376-782f-448a-a97a-99ba336b97d4",
   "metadata": {},
   "outputs": [
    {
     "data": {
      "text/plain": [
       "array(['0x5000', '0xfcec', '0x0000', ..., '0x3ead', '0xeeaa', '0x9a89'],\n",
       "      dtype=object)"
      ]
     },
     "execution_count": 42,
     "metadata": {},
     "output_type": "execute_result"
    }
   ],
   "source": [
    "icmp_records.dport.unique()"
   ]
  },
  {
   "cell_type": "code",
   "execution_count": 43,
   "id": "7a0cb34a-af85-43a4-ae61-f99b1043aef2",
   "metadata": {},
   "outputs": [
    {
     "data": {
      "text/plain": [
       "array([49960, -1, 49962, ..., '0x0008', '0x000d', '0x0011'], dtype=object)"
      ]
     },
     "execution_count": 43,
     "metadata": {},
     "output_type": "execute_result"
    }
   ],
   "source": [
    "valid_data.sport.unique()"
   ]
  },
  {
   "cell_type": "code",
   "execution_count": 51,
   "id": "cd867762-8368-43f2-9d7b-6a9b1f452908",
   "metadata": {},
   "outputs": [],
   "source": [
    "# drop cases of icmp records \n",
    "valid_data = valid_data[valid_data.proto != 'icmp']"
   ]
  },
  {
   "cell_type": "code",
   "execution_count": 52,
   "id": "12b84db9-2d26-4cfe-a4f5-03507d62b860",
   "metadata": {},
   "outputs": [
    {
     "data": {
      "text/plain": [
       "array(['tcp', 'arp', 'udp', 'proto', 'ipv6-icmp'], dtype=object)"
      ]
     },
     "execution_count": 52,
     "metadata": {},
     "output_type": "execute_result"
    }
   ],
   "source": [
    "valid_data.proto.unique()"
   ]
  },
  {
   "cell_type": "markdown",
   "id": "b6bec683-eabf-4d54-a8c9-c46fa152f587",
   "metadata": {},
   "source": [
    "The next thing to do is to completely drop all ARP packets. The paper reviewing the dataset showed the there exist mislabeld observations. Several instances using ARP are not labeled as 'attack' traffic when they should be labeled as normal. One can go through and manually inspect each packet; however, it is better to simply drop these observations."
   ]
  },
  {
   "cell_type": "code",
   "execution_count": 57,
   "id": "02eedb01-1df7-4594-80b1-d74c9de2e41a",
   "metadata": {},
   "outputs": [],
   "source": [
    "# drop the cases of arp\n",
    "valid_data = valid_data[valid_data.proto != 'arp']"
   ]
  },
  {
   "cell_type": "code",
   "execution_count": 58,
   "id": "bb6474f3-c5d4-44a5-9eea-d10b75b8f5b1",
   "metadata": {},
   "outputs": [
    {
     "data": {
      "text/plain": [
       "array(['tcp', 'udp', 'proto', 'ipv6-icmp'], dtype=object)"
      ]
     },
     "execution_count": 58,
     "metadata": {},
     "output_type": "execute_result"
    }
   ],
   "source": [
    "valid_data.proto.unique()"
   ]
  },
  {
   "cell_type": "code",
   "execution_count": 66,
   "id": "875c2205-7073-46f7-b3f9-2d1a633e9186",
   "metadata": {},
   "outputs": [
    {
     "data": {
      "text/plain": [
       "array(['DoS', 'category', 'DDoS', 'Normal', 'Reconnaissance', 'Theft'],\n",
       "      dtype=object)"
      ]
     },
     "execution_count": 66,
     "metadata": {},
     "output_type": "execute_result"
    }
   ],
   "source": [
    "valid_data.category.unique()"
   ]
  },
  {
   "cell_type": "code",
   "execution_count": 67,
   "id": "a990c6bc-ac4a-4432-9933-5b185f524480",
   "metadata": {},
   "outputs": [
    {
     "data": {
      "text/plain": [
       "array(['HTTP', 'TCP', 'UDP', 'subcategory', 'Normal', 'OS_Fingerprint',\n",
       "       'Service_Scan', 'Data_Exfiltration', 'Keylogging'], dtype=object)"
      ]
     },
     "execution_count": 67,
     "metadata": {},
     "output_type": "execute_result"
    }
   ],
   "source": [
    "valid_data.subcategory.unique()"
   ]
  },
  {
   "cell_type": "markdown",
   "id": "f159b5ae-9699-401d-83c0-93cc64e53c66",
   "metadata": {},
   "source": []
  }
 ],
 "metadata": {
  "kernelspec": {
   "display_name": "Python 3 (ipykernel)",
   "language": "python",
   "name": "python3"
  },
  "language_info": {
   "codemirror_mode": {
    "name": "ipython",
    "version": 3
   },
   "file_extension": ".py",
   "mimetype": "text/x-python",
   "name": "python",
   "nbconvert_exporter": "python",
   "pygments_lexer": "ipython3",
   "version": "3.9.12"
  }
 },
 "nbformat": 4,
 "nbformat_minor": 5
}
