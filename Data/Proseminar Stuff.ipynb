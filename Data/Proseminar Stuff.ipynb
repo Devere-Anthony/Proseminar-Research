{
 "cells": [
  {
   "cell_type": "code",
   "execution_count": 1,
   "id": "3553c633-de1e-482c-91a2-bfaaaeed5ba6",
   "metadata": {},
   "outputs": [],
   "source": [
    "import pandas as pd\n",
    "import statsmodels.api as sm\n",
    "import statsmodels.formula.api as smf\n",
    "import statsmodels.graphics.api as smg\n",
    "import numpy as np \n",
    "import matplotlib.pyplot as plt\n",
    "from scipy import stats"
   ]
  },
  {
   "cell_type": "code",
   "execution_count": 2,
   "id": "954d8f8c-9223-432d-b8f8-a08d20c2354e",
   "metadata": {},
   "outputs": [],
   "source": [
    "# Load network dataset \n",
    "network_df = pd.read_csv(\"Train_Test_Network.csv\")\n",
    "network_df.index = network_df.index + 1"
   ]
  },
  {
   "cell_type": "code",
   "execution_count": 3,
   "id": "16b21fa6-6def-487e-b5ce-0d59a94972eb",
   "metadata": {},
   "outputs": [
    {
     "name": "stdout",
     "output_type": "stream",
     "text": [
      "<class 'pandas.core.frame.DataFrame'>\n",
      "RangeIndex: 461043 entries, 1 to 461043\n",
      "Data columns (total 45 columns):\n",
      " #   Column                  Non-Null Count   Dtype  \n",
      "---  ------                  --------------   -----  \n",
      " 0   ts                      461043 non-null  int64  \n",
      " 1   src_ip                  461043 non-null  object \n",
      " 2   src_port                461043 non-null  int64  \n",
      " 3   dst_ip                  461043 non-null  object \n",
      " 4   dst_port                461043 non-null  int64  \n",
      " 5   proto                   461043 non-null  object \n",
      " 6   service                 461043 non-null  object \n",
      " 7   duration                461043 non-null  float64\n",
      " 8   src_bytes               461043 non-null  int64  \n",
      " 9   dst_bytes               461043 non-null  int64  \n",
      " 10  conn_state              461043 non-null  object \n",
      " 11  missed_bytes            461043 non-null  int64  \n",
      " 12  src_pkts                461043 non-null  int64  \n",
      " 13  src_ip_bytes            461043 non-null  int64  \n",
      " 14  dst_pkts                461043 non-null  int64  \n",
      " 15  dst_ip_bytes            461043 non-null  int64  \n",
      " 16  dns_query               461043 non-null  object \n",
      " 17  dns_qclass              461043 non-null  int64  \n",
      " 18  dns_qtype               461043 non-null  int64  \n",
      " 19  dns_rcode               461043 non-null  int64  \n",
      " 20  dns_AA                  461043 non-null  object \n",
      " 21  dns_RD                  461043 non-null  object \n",
      " 22  dns_RA                  461043 non-null  object \n",
      " 23  dns_rejected            461043 non-null  object \n",
      " 24  ssl_version             461043 non-null  object \n",
      " 25  ssl_cipher              461043 non-null  object \n",
      " 26  ssl_resumed             461043 non-null  object \n",
      " 27  ssl_established         461043 non-null  object \n",
      " 28  ssl_subject             461043 non-null  object \n",
      " 29  ssl_issuer              461043 non-null  object \n",
      " 30  http_trans_depth        461043 non-null  object \n",
      " 31  http_method             461043 non-null  object \n",
      " 32  http_uri                461043 non-null  object \n",
      " 33  http_version            461043 non-null  object \n",
      " 34  http_request_body_len   461043 non-null  int64  \n",
      " 35  http_response_body_len  461043 non-null  int64  \n",
      " 36  http_status_code        461043 non-null  int64  \n",
      " 37  http_user_agent         461043 non-null  object \n",
      " 38  http_orig_mime_types    461043 non-null  object \n",
      " 39  http_resp_mime_types    461043 non-null  object \n",
      " 40  weird_name              461043 non-null  object \n",
      " 41  weird_addl              461043 non-null  object \n",
      " 42  weird_notice            461043 non-null  object \n",
      " 43  label                   461043 non-null  int64  \n",
      " 44  type                    461043 non-null  object \n",
      "dtypes: float64(1), int64(17), object(27)\n",
      "memory usage: 158.3+ MB\n"
     ]
    }
   ],
   "source": [
    "network_df.info()"
   ]
  },
  {
   "cell_type": "code",
   "execution_count": 4,
   "id": "b5ade511-cc87-47b5-812d-391304aa82cf",
   "metadata": {},
   "outputs": [
    {
     "data": {
      "text/html": [
       "<div>\n",
       "<style scoped>\n",
       "    .dataframe tbody tr th:only-of-type {\n",
       "        vertical-align: middle;\n",
       "    }\n",
       "\n",
       "    .dataframe tbody tr th {\n",
       "        vertical-align: top;\n",
       "    }\n",
       "\n",
       "    .dataframe thead th {\n",
       "        text-align: right;\n",
       "    }\n",
       "</style>\n",
       "<table border=\"1\" class=\"dataframe\">\n",
       "  <thead>\n",
       "    <tr style=\"text-align: right;\">\n",
       "      <th></th>\n",
       "      <th>ts</th>\n",
       "      <th>src_ip</th>\n",
       "      <th>src_port</th>\n",
       "      <th>dst_ip</th>\n",
       "      <th>dst_port</th>\n",
       "      <th>proto</th>\n",
       "      <th>service</th>\n",
       "      <th>duration</th>\n",
       "      <th>src_bytes</th>\n",
       "      <th>dst_bytes</th>\n",
       "      <th>...</th>\n",
       "      <th>http_response_body_len</th>\n",
       "      <th>http_status_code</th>\n",
       "      <th>http_user_agent</th>\n",
       "      <th>http_orig_mime_types</th>\n",
       "      <th>http_resp_mime_types</th>\n",
       "      <th>weird_name</th>\n",
       "      <th>weird_addl</th>\n",
       "      <th>weird_notice</th>\n",
       "      <th>label</th>\n",
       "      <th>type</th>\n",
       "    </tr>\n",
       "  </thead>\n",
       "  <tbody>\n",
       "    <tr>\n",
       "      <th>1</th>\n",
       "      <td>1554198358</td>\n",
       "      <td>3.122.49.24</td>\n",
       "      <td>1883</td>\n",
       "      <td>192.168.1.152</td>\n",
       "      <td>52976</td>\n",
       "      <td>tcp</td>\n",
       "      <td>-</td>\n",
       "      <td>80549.53026</td>\n",
       "      <td>1762852</td>\n",
       "      <td>41933215</td>\n",
       "      <td>...</td>\n",
       "      <td>0</td>\n",
       "      <td>0</td>\n",
       "      <td>-</td>\n",
       "      <td>-</td>\n",
       "      <td>-</td>\n",
       "      <td>bad_TCP_checksum</td>\n",
       "      <td>-</td>\n",
       "      <td>F</td>\n",
       "      <td>0</td>\n",
       "      <td>normal</td>\n",
       "    </tr>\n",
       "    <tr>\n",
       "      <th>2</th>\n",
       "      <td>1554198358</td>\n",
       "      <td>192.168.1.79</td>\n",
       "      <td>47260</td>\n",
       "      <td>192.168.1.255</td>\n",
       "      <td>15600</td>\n",
       "      <td>udp</td>\n",
       "      <td>-</td>\n",
       "      <td>0.00000</td>\n",
       "      <td>0</td>\n",
       "      <td>0</td>\n",
       "      <td>...</td>\n",
       "      <td>0</td>\n",
       "      <td>0</td>\n",
       "      <td>-</td>\n",
       "      <td>-</td>\n",
       "      <td>-</td>\n",
       "      <td>-</td>\n",
       "      <td>-</td>\n",
       "      <td>-</td>\n",
       "      <td>0</td>\n",
       "      <td>normal</td>\n",
       "    </tr>\n",
       "    <tr>\n",
       "      <th>3</th>\n",
       "      <td>1554198359</td>\n",
       "      <td>192.168.1.152</td>\n",
       "      <td>1880</td>\n",
       "      <td>192.168.1.152</td>\n",
       "      <td>51782</td>\n",
       "      <td>tcp</td>\n",
       "      <td>-</td>\n",
       "      <td>0.00000</td>\n",
       "      <td>0</td>\n",
       "      <td>0</td>\n",
       "      <td>...</td>\n",
       "      <td>0</td>\n",
       "      <td>0</td>\n",
       "      <td>-</td>\n",
       "      <td>-</td>\n",
       "      <td>-</td>\n",
       "      <td>bad_TCP_checksum</td>\n",
       "      <td>-</td>\n",
       "      <td>F</td>\n",
       "      <td>0</td>\n",
       "      <td>normal</td>\n",
       "    </tr>\n",
       "  </tbody>\n",
       "</table>\n",
       "<p>3 rows × 45 columns</p>\n",
       "</div>"
      ],
      "text/plain": [
       "           ts         src_ip  src_port         dst_ip  dst_port proto service  \\\n",
       "1  1554198358    3.122.49.24      1883  192.168.1.152     52976   tcp       -   \n",
       "2  1554198358   192.168.1.79     47260  192.168.1.255     15600   udp       -   \n",
       "3  1554198359  192.168.1.152      1880  192.168.1.152     51782   tcp       -   \n",
       "\n",
       "      duration  src_bytes  dst_bytes  ... http_response_body_len  \\\n",
       "1  80549.53026    1762852   41933215  ...                      0   \n",
       "2      0.00000          0          0  ...                      0   \n",
       "3      0.00000          0          0  ...                      0   \n",
       "\n",
       "   http_status_code  http_user_agent  http_orig_mime_types  \\\n",
       "1                 0                -                     -   \n",
       "2                 0                -                     -   \n",
       "3                 0                -                     -   \n",
       "\n",
       "   http_resp_mime_types        weird_name weird_addl  weird_notice  label  \\\n",
       "1                     -  bad_TCP_checksum          -             F      0   \n",
       "2                     -                 -          -             -      0   \n",
       "3                     -  bad_TCP_checksum          -             F      0   \n",
       "\n",
       "     type  \n",
       "1  normal  \n",
       "2  normal  \n",
       "3  normal  \n",
       "\n",
       "[3 rows x 45 columns]"
      ]
     },
     "execution_count": 4,
     "metadata": {},
     "output_type": "execute_result"
    }
   ],
   "source": [
    "# Data snippet\n",
    "network_df.head(n = 3)"
   ]
  },
  {
   "cell_type": "code",
   "execution_count": 11,
   "id": "6425f658-2fee-4a42-8d5b-ca354af40219",
   "metadata": {},
   "outputs": [
    {
     "data": {
      "text/plain": [
       "array(['normal', 'scanning', 'dos', 'injection', 'ddos', 'password',\n",
       "       'xss', 'ransomware', 'backdoor', 'mitm'], dtype=object)"
      ]
     },
     "execution_count": 11,
     "metadata": {},
     "output_type": "execute_result"
    }
   ],
   "source": [
    "# List unique values of type variable \n",
    "types = network_df.type.unique()\n",
    "types"
   ]
  },
  {
   "cell_type": "code",
   "execution_count": 26,
   "id": "2cc475ea-3b06-4fdc-9f93-3d6b9f66630e",
   "metadata": {},
   "outputs": [],
   "source": [
    "# Let's make new data frames for each type attribute \n",
    "normal_traffic = network_df[network_df['type'] == 'normal']\n",
    "password_traffic = network_df[network_df['type'] == 'password']\n",
    "ddos_traffic = network_df[network_df['type'] == 'ddos']\n",
    "ransomware = network_df[network_df['type'] == 'ransomware']"
   ]
  },
  {
   "cell_type": "code",
   "execution_count": 38,
   "id": "1460a457-c54c-467a-86d8-4a3926bdc2cf",
   "metadata": {},
   "outputs": [
    {
     "data": {
      "text/plain": [
       "(300000, 20000, 20000, 20000)"
      ]
     },
     "execution_count": 38,
     "metadata": {},
     "output_type": "execute_result"
    }
   ],
   "source": [
    "# Check number of records match...they do\n",
    "normal_traffic.shape[0], password_traffic.shape[0], ddos_traffic.shape[0], ransomware.shape[0]"
   ]
  },
  {
   "cell_type": "code",
   "execution_count": 54,
   "id": "0bfd0ab2-770b-4713-b061-40256e4469ac",
   "metadata": {},
   "outputs": [
    {
     "data": {
      "text/plain": [
       "<bound method NDFrame._add_numeric_operations.<locals>.mean of 1         80549.530260\n",
       "2             0.000000\n",
       "3             0.000000\n",
       "4             0.000000\n",
       "5             0.000549\n",
       "              ...     \n",
       "420022        0.000000\n",
       "420023        0.000000\n",
       "420024        0.000000\n",
       "420025        0.000000\n",
       "420026        0.000000\n",
       "Name: duration, Length: 300000, dtype: float64>"
      ]
     },
     "execution_count": 54,
     "metadata": {},
     "output_type": "execute_result"
    }
   ],
   "source": [
    "normal_traffic['duration'].mean"
   ]
  },
  {
   "cell_type": "markdown",
   "id": "d732a5a4-d3c3-4d35-88ee-46dd2508ce70",
   "metadata": {},
   "source": [
    "# TO DO: Come back and do some digging after figuring out which variables are worth using to create a model "
   ]
  }
 ],
 "metadata": {
  "kernelspec": {
   "display_name": "Python 3 (ipykernel)",
   "language": "python",
   "name": "python3"
  },
  "language_info": {
   "codemirror_mode": {
    "name": "ipython",
    "version": 3
   },
   "file_extension": ".py",
   "mimetype": "text/x-python",
   "name": "python",
   "nbconvert_exporter": "python",
   "pygments_lexer": "ipython3",
   "version": "3.9.12"
  }
 },
 "nbformat": 4,
 "nbformat_minor": 5
}
